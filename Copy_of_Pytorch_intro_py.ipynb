{
  "nbformat": 4,
  "nbformat_minor": 0,
  "metadata": {
    "colab": {
      "name": "Copy of Pytorch_intro.py",
      "provenance": [],
      "collapsed_sections": [],
      "toc_visible": true,
      "authorship_tag": "ABX9TyPDwwZMRot+ypCZv3PE1XPM",
      "include_colab_link": true
    },
    "kernelspec": {
      "name": "python3",
      "display_name": "Python 3"
    }
  },
  "cells": [
    {
      "cell_type": "markdown",
      "metadata": {
        "id": "view-in-github",
        "colab_type": "text"
      },
      "source": [
        "<a href=\"https://colab.research.google.com/github/rizwan09/ANCE/blob/master/Copy_of_Pytorch_intro_py.ipynb\" target=\"_parent\"><img src=\"https://colab.research.google.com/assets/colab-badge.svg\" alt=\"Open In Colab\"/></a>"
      ]
    },
    {
      "cell_type": "code",
      "metadata": {
        "id": "W_rzXubTNnPV"
      },
      "source": [
        "#Adapted from https://towardsdatascience.com/logistic-regression-on-mnist-with-pytorch-b048327f8d19\n",
        "import torch\n",
        "from torch.autograd import Variable\n",
        "import torchvision.transforms as transforms\n",
        "import torchvision.datasets as dsets"
      ],
      "execution_count": null,
      "outputs": []
    },
    {
      "cell_type": "markdown",
      "metadata": {
        "id": "WFh4ySfjSiTt"
      },
      "source": [
        "## About\n",
        " A simple binary image classification example: classify bewteen bees and not bees. Figure is from https://colab.research.google.com/github/dair-ai/notebooks/blob/master/_notebooks/2020-03-18-pytorch_logistic_regression.ipynb. \n",
        "![alt text](https://drive.google.com/uc?export=view&id=11Bv3uhZtVgRVYVWDl9_ZAYQ0GU36LhM9)\n",
        "\n",
        "\n",
        "In this tutorial, we are going to implement a logistic regression model from scratch with PyTorch. The model will be designed with neural networks in mind and will be used for a simple image classification task.\n",
        "\n"
      ]
    },
    {
      "cell_type": "markdown",
      "metadata": {
        "id": "TlblUnO1ThiS"
      },
      "source": [
        "# Now let's see can we work on implement another image classification problem: a very popular  multi-class classification problem on MNIST benchmark dataset."
      ]
    },
    {
      "cell_type": "code",
      "metadata": {
        "id": "mh9bfwWVOTfs"
      },
      "source": [
        "# Step 1. Load Dataset\n",
        "# Step 2. Make Dataset Iterable\n",
        "# Step 3. Create Model Class\n",
        "# Step 4. Instantiate Model Class\n",
        "# Step 5. Instantiate Loss Class\n",
        "# Step 6. Instantiate Optimizer Class\n",
        "# Step 7. Train Model"
      ],
      "execution_count": null,
      "outputs": []
    },
    {
      "cell_type": "code",
      "metadata": {
        "id": "92lDPY7fOUkp"
      },
      "source": [
        "# To load the dataset, we make use of torchvision.datasets,\n",
        "# a library which has almost all the popular datasets used in Machine Learning. \n",
        "# You can check out the complete list of datasets at https://pytorch.org/docs/stable/torchvision/datasets.html.\n",
        "\n",
        "# For first time set: download=True\n",
        "# set the path \"root\" where to save the preprossed data after download'\n",
        "train_dataset = dsets.MNIST(root='./data', train=True, transform=transforms.ToTensor(), download=False)\n",
        "test_dataset = dsets.MNIST(root='./data', train=False, transform=transforms.ToTensor(), download=False)"
      ],
      "execution_count": null,
      "outputs": []
    },
    {
      "cell_type": "code",
      "metadata": {
        "id": "xEDxVLHWPyOk"
      },
      "source": [
        "# Set hyperparams\n",
        "batch_size = 100\n",
        "n_iters = 3000\n",
        "epochs = n_iters / (len(train_dataset) / batch_size)\n",
        "input_dim = 784\n",
        "output_dim = 10\n",
        "lr_rate = 0.001\n"
      ],
      "execution_count": null,
      "outputs": []
    },
    {
      "cell_type": "code",
      "metadata": {
        "id": "gIS79SMJPVev"
      },
      "source": [
        "# Make Dataset Iterable\n",
        "# A common practice is to shuffle trainset but not the testset\n",
        "train_loader = torch.utils.data.DataLoader(dataset=train_dataset, batch_size=batch_size, shuffle=True)\n",
        "test_loader = torch.utils.data.DataLoader(dataset=test_dataset, batch_size=batch_size, shuffle=False)"
      ],
      "execution_count": null,
      "outputs": []
    },
    {
      "cell_type": "code",
      "metadata": {
        "id": "fvNZlSNyPlut"
      },
      "source": [
        "#Create the Model Class \n",
        "# Must have the forward func and super class must be torch.nn.Module\n",
        "class LogisticRegression(torch.nn.Module):\n",
        "    def __init__(self, input_dim, output_dim):\n",
        "        super(LogisticRegression, self).__init__()\n",
        "        self.linear = torch.nn.Linear(input_dim, output_dim)\n",
        "\n",
        "    def forward(self, x):\n",
        "        outputs = self.linear(x)\n",
        "        return outputs"
      ],
      "execution_count": null,
      "outputs": []
    },
    {
      "cell_type": "code",
      "metadata": {
        "id": "bzeu1M_fP79K"
      },
      "source": [
        "# Instantiate the Model Class\n",
        "model = LogisticRegression(input_dim, output_dim)\n"
      ],
      "execution_count": null,
      "outputs": []
    },
    {
      "cell_type": "code",
      "metadata": {
        "id": "ZYrr83OmP9Nn"
      },
      "source": [
        "# Instantiate the Loss Class\n",
        "# We use the cross-entropy to compute the loss.\n",
        "criterion = torch.nn.CrossEntropyLoss() # computes softmax and then the cross entropy"
      ],
      "execution_count": null,
      "outputs": []
    },
    {
      "cell_type": "code",
      "metadata": {
        "id": "PEmtlWIrQHwb"
      },
      "source": [
        "# Instatnitate the Optimizer Class\n",
        "# The optimizer will be the learning algorithm we use. In this case, we will use the Stochastic Gradient Descent.\n",
        "optimizer = torch.optim.SGD(model.parameters(), lr=lr_rate)"
      ],
      "execution_count": null,
      "outputs": []
    },
    {
      "cell_type": "code",
      "metadata": {
        "id": "rsa2DGP1QJx_",
        "outputId": "61b27a8a-59c5-4c1b-b510-e5c8cee4d6d5",
        "colab": {
          "base_uri": "https://localhost:8080/"
        }
      },
      "source": [
        "# Last Step: Train the Model\n",
        "iter = 0\n",
        "for epoch in range(int(epochs)):\n",
        "    for i, (images, labels) in enumerate(train_loader):\n",
        "        images = Variable(images.view(-1, 28 * 28))\n",
        "        labels = Variable(labels)\n",
        "\n",
        "        optimizer.zero_grad()\n",
        "        outputs = model(images)\n",
        "        loss = criterion(outputs, labels)\n",
        "        loss.backward()\n",
        "        optimizer.step()\n",
        "\n",
        "        iter+=1\n",
        "        if iter%500==0:\n",
        "            # calculate Test Accuracy\n",
        "            correct = 0\n",
        "            total = 0\n",
        "            for images, labels in test_loader:\n",
        "                # print(labels)\n",
        "                images = Variable(images.view(-1, 28*28))\n",
        "                outputs = model(images)\n",
        "                _, predicted = torch.max(outputs.data, 1)\n",
        "                total+= labels.size(0)\n",
        "                # for gpu, bring the predicted and labels back to cpu fro python operations to work\n",
        "                correct+= (predicted == labels).sum()\n",
        "            accuracy = 100 * correct/total\n",
        "            print(\"Iteration: {}. Train Loss: {}. test Accuracy: {}.\".format(iter, loss.item(), accuracy))"
      ],
      "execution_count": null,
      "outputs": [
        {
          "output_type": "stream",
          "text": [
            "Iteration: 500. Train Loss: 1.4868563413619995. test Accuracy: 77.69999694824219.\n",
            "Iteration: 1000. Train Loss: 1.2841823101043701. test Accuracy: 80.08999633789062.\n",
            "Iteration: 1500. Train Loss: 1.0317500829696655. test Accuracy: 81.1500015258789.\n",
            "Iteration: 2000. Train Loss: 1.1598143577575684. test Accuracy: 82.25.\n",
            "Iteration: 2500. Train Loss: 1.0324435234069824. test Accuracy: 82.81999969482422.\n",
            "Iteration: 3000. Train Loss: 0.9744101166725159. test Accuracy: 83.45999908447266.\n"
          ],
          "name": "stdout"
        }
      ]
    }
  ]
}